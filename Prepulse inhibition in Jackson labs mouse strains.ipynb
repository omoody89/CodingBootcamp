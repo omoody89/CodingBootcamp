{
 "cells": [
  {
   "cell_type": "markdown",
   "metadata": {},
   "source": [
    "# Inhibition of the acoustic startle response as a marker for schizophrenia\n",
    "\n",
    "The [acoustic startle reflex](https://en.wikipedia.org/wiki/Startle_response#Acoustic_startle_reflex) (ASR) is as its name implies a specific type of startle reflex triggered by auditory stimuli. It is thought that specific brain pathways mediate the ASR.\n",
    "\n",
    "Healthy subjects can inhbit the ASR when it is preceded by a \"pre-pulse\" (a weaker stimulus that precedes a stimulus that would cause ASR). This phenomenon is known as pre-pulse inhibition (PPI). Some studies find that prodromal schizophrenic patients show diminished PPI compared to healthy subjects [1,2]. The studies conclude that the impaired PPI results from dysfunction of sensory gating in schizophrenia. It remains unclear what physical changes in the brain give rise to this dysfunctional sensory gating.\n",
    "\n",
    "[1] Quednow, Boris B., et al. \"Impaired sensorimotor gating of the acoustic startle response in the prodrome of schizophrenia.\" Biological psychiatry 64.9 (2008): 766-773.\n",
    "\n",
    "[2] Braff, David L. \"Prepulse inhibition of the startle reflex: a window on the brain in schizophrenia.\" Behavioral neurobiology of schizophrenia and its treatment. Springer Berlin Heidelberg, 2010. 349-371."
   ]
  },
  {
   "cell_type": "markdown",
   "metadata": {},
   "source": [
    "# Candidate mouse strains for studying ASR\n",
    "\n",
    "Mouse models present one way to understand how dysfunctions in sensory gating could lead to impaired PPI of the ASR.\n",
    "\n",
    "Jackson labs maintains the Phenome database containing data on many mouse strains.\n",
    "\n",
    "Below I present plots of PPI for several strains from the database. These are strains for which data is also available about concentrations of different biochemical analytes in the brain thought to be involved in psychiatric disorders."
   ]
  },
  {
   "cell_type": "code",
   "execution_count": null,
   "metadata": {
    "collapsed": false,
    "scrolled": true
   },
   "outputs": [],
   "source": [
    "%matplotlib inline\n",
    "%run ppi_fig1_script.py"
   ]
  },
  {
   "cell_type": "markdown",
   "metadata": {},
   "source": [
    "**Fig.1. Paired-pulse inhibition of the Acoustic Startle Reflex in Jackson labs mouse strains.** *x-axis, strain. y-axis, prepulse inhibition (PPI). PPI was calculated as total PPI across different frequencies for which it was tested. I.e., PPI was measured at 40, 70, and 100 kHz and then those values were summed. See [3] for more information.*\n",
    "\n",
    "One hypothesis is that dysfunctional sensory gating arises from dysregulation of inhibitory neurons.\n",
    "\n",
    "This could manifest itself as a change in the levels of the receptor GAD1 that synthesizes the inhibitory neurotransmitter GABA.\n",
    "\n",
    "In the figure below I plot strains in ascending order of PPI (i.e., in the same order as figure 1). However the y axis is mean concentration of GAD1 in cortex for that strain.\n",
    "\n",
    "[3] Willott JF, Tanner L, O'Steen J, Johnson KR, Bogue MA, Gagnon L. Acoustic startle and prepulse inhibition in 40 inbred strains of mice. Behav Neurosci. 2003 Aug;117(4):716-27.   "
   ]
  },
  {
   "cell_type": "code",
   "execution_count": null,
   "metadata": {
    "collapsed": false,
    "scrolled": true
   },
   "outputs": [],
   "source": [
    "%run ppi_fig2_script.py"
   ]
  },
  {
   "cell_type": "markdown",
   "metadata": {},
   "source": [
    "**Fig. 2. Concentration of GAD1 in cortex for mouse strains, plotted in ascending order of PPI (as shown in Fig.1).** *x-axis, mouse strains, same strains and in same order as in Fig.1. y-axis, concetration of GAD1 enzyme in cortex for each strain.*\n",
    "\n",
    "It is obvious without testing that there is not a linear correlation between GAD1 concentration in cortex and PPI. This is a simplistic hypothesis though. Actual studies should focus on deeper structures below cortex though to mediate ASR."
   ]
  }
 ],
 "metadata": {
  "anaconda-cloud": {},
  "kernelspec": {
   "display_name": "Python [Root]",
   "language": "python",
   "name": "Python [Root]"
  },
  "language_info": {
   "codemirror_mode": {
    "name": "ipython",
    "version": 3
   },
   "file_extension": ".py",
   "mimetype": "text/x-python",
   "name": "python",
   "nbconvert_exporter": "python",
   "pygments_lexer": "ipython3",
   "version": "3.5.2"
  }
 },
 "nbformat": 4,
 "nbformat_minor": 0
}
